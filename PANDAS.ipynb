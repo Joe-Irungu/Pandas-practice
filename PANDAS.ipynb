{
 "cells": [
  {
   "cell_type": "code",
   "execution_count": 2,
   "id": "5559f15c",
   "metadata": {},
   "outputs": [
    {
     "data": {
      "text/html": [
       "<div>\n",
       "<style scoped>\n",
       "    .dataframe tbody tr th:only-of-type {\n",
       "        vertical-align: middle;\n",
       "    }\n",
       "\n",
       "    .dataframe tbody tr th {\n",
       "        vertical-align: top;\n",
       "    }\n",
       "\n",
       "    .dataframe thead th {\n",
       "        text-align: right;\n",
       "    }\n",
       "</style>\n",
       "<table border=\"1\" class=\"dataframe\">\n",
       "  <thead>\n",
       "    <tr style=\"text-align: right;\">\n",
       "      <th></th>\n",
       "      <th>names</th>\n",
       "      <th>Gpa</th>\n",
       "      <th>rank</th>\n",
       "    </tr>\n",
       "  </thead>\n",
       "  <tbody>\n",
       "    <tr>\n",
       "      <th>0</th>\n",
       "      <td>joe</td>\n",
       "      <td>88</td>\n",
       "      <td>1</td>\n",
       "    </tr>\n",
       "    <tr>\n",
       "      <th>1</th>\n",
       "      <td>mark</td>\n",
       "      <td>78</td>\n",
       "      <td>2</td>\n",
       "    </tr>\n",
       "    <tr>\n",
       "      <th>2</th>\n",
       "      <td>faith</td>\n",
       "      <td>73</td>\n",
       "      <td>3</td>\n",
       "    </tr>\n",
       "    <tr>\n",
       "      <th>3</th>\n",
       "      <td>ace</td>\n",
       "      <td>73</td>\n",
       "      <td>3</td>\n",
       "    </tr>\n",
       "    <tr>\n",
       "      <th>4</th>\n",
       "      <td>john</td>\n",
       "      <td>72</td>\n",
       "      <td>5</td>\n",
       "    </tr>\n",
       "    <tr>\n",
       "      <th>5</th>\n",
       "      <td>lucky</td>\n",
       "      <td>71</td>\n",
       "      <td>6</td>\n",
       "    </tr>\n",
       "  </tbody>\n",
       "</table>\n",
       "</div>"
      ],
      "text/plain": [
       "   names  Gpa  rank\n",
       "0    joe   88     1\n",
       "1   mark   78     2\n",
       "2  faith   73     3\n",
       "3    ace   73     3\n",
       "4   john   72     5\n",
       "5  lucky   71     6"
      ]
     },
     "execution_count": 2,
     "metadata": {},
     "output_type": "execute_result"
    }
   ],
   "source": [
    "import pandas as pd\n",
    "import numpy as np\n",
    "Class_performance = {'names':['joe', 'mark', 'faith', 'ace', 'john', 'lucky'],\n",
    "                    'Gpa':[88, 78, 73, 73, 72, 71],\n",
    "                    'rank':[1, 2, 3, 3, 5, 6]}\n",
    "performance_data = pd.DataFrame(Class_performance)\n",
    "performance_data"
   ]
  },
  {
   "cell_type": "code",
   "execution_count": 2,
   "id": "4514e10d",
   "metadata": {},
   "outputs": [
    {
     "data": {
      "text/plain": [
       "0      joe\n",
       "1     mark\n",
       "2    faith\n",
       "3      ace\n",
       "4     john\n",
       "5    lucky\n",
       "Name: names, dtype: object"
      ]
     },
     "execution_count": 2,
     "metadata": {},
     "output_type": "execute_result"
    }
   ],
   "source": [
    "performance_data.names"
   ]
  },
  {
   "cell_type": "code",
   "execution_count": 3,
   "id": "20709d23",
   "metadata": {},
   "outputs": [
    {
     "data": {
      "text/plain": [
       "0    88\n",
       "1    78\n",
       "2    73\n",
       "3    73\n",
       "4    72\n",
       "5    71\n",
       "Name: Gpa, dtype: int64"
      ]
     },
     "execution_count": 3,
     "metadata": {},
     "output_type": "execute_result"
    }
   ],
   "source": [
    "performance_data.Gpa"
   ]
  },
  {
   "cell_type": "code",
   "execution_count": 18,
   "id": "f5c85fac",
   "metadata": {},
   "outputs": [
    {
     "data": {
      "text/html": [
       "<div>\n",
       "<style scoped>\n",
       "    .dataframe tbody tr th:only-of-type {\n",
       "        vertical-align: middle;\n",
       "    }\n",
       "\n",
       "    .dataframe tbody tr th {\n",
       "        vertical-align: top;\n",
       "    }\n",
       "\n",
       "    .dataframe thead th {\n",
       "        text-align: right;\n",
       "    }\n",
       "</style>\n",
       "<table border=\"1\" class=\"dataframe\">\n",
       "  <thead>\n",
       "    <tr style=\"text-align: right;\">\n",
       "      <th></th>\n",
       "      <th>names</th>\n",
       "      <th>Gpa</th>\n",
       "    </tr>\n",
       "    <tr>\n",
       "      <th>rank</th>\n",
       "      <th></th>\n",
       "      <th></th>\n",
       "    </tr>\n",
       "  </thead>\n",
       "  <tbody>\n",
       "    <tr>\n",
       "      <th>1</th>\n",
       "      <td>joe</td>\n",
       "      <td>88</td>\n",
       "    </tr>\n",
       "    <tr>\n",
       "      <th>2</th>\n",
       "      <td>mark</td>\n",
       "      <td>78</td>\n",
       "    </tr>\n",
       "    <tr>\n",
       "      <th>3</th>\n",
       "      <td>faith</td>\n",
       "      <td>73</td>\n",
       "    </tr>\n",
       "    <tr>\n",
       "      <th>3</th>\n",
       "      <td>ace</td>\n",
       "      <td>73</td>\n",
       "    </tr>\n",
       "    <tr>\n",
       "      <th>5</th>\n",
       "      <td>john</td>\n",
       "      <td>72</td>\n",
       "    </tr>\n",
       "    <tr>\n",
       "      <th>6</th>\n",
       "      <td>lucky</td>\n",
       "      <td>71</td>\n",
       "    </tr>\n",
       "  </tbody>\n",
       "</table>\n",
       "</div>"
      ],
      "text/plain": [
       "      names  Gpa\n",
       "rank            \n",
       "1       joe   88\n",
       "2      mark   78\n",
       "3     faith   73\n",
       "3       ace   73\n",
       "5      john   72\n",
       "6     lucky   71"
      ]
     },
     "execution_count": 18,
     "metadata": {},
     "output_type": "execute_result"
    }
   ],
   "source": [
    "performance_data.set_index('rank')"
   ]
  },
  {
   "cell_type": "code",
   "execution_count": 5,
   "id": "209aad2b",
   "metadata": {},
   "outputs": [
    {
     "name": "stdout",
     "output_type": "stream",
     "text": [
      "1.2.4\n"
     ]
    }
   ],
   "source": [
    "print(pd.__version__)"
   ]
  },
  {
   "cell_type": "markdown",
   "id": "10146b15",
   "metadata": {},
   "source": [
    "# index based selection"
   ]
  },
  {
   "cell_type": "code",
   "execution_count": 20,
   "id": "90c65fdb",
   "metadata": {},
   "outputs": [
    {
     "data": {
      "text/plain": [
       "names    joe\n",
       "Gpa       88\n",
       "rank       1\n",
       "Name: 0, dtype: object"
      ]
     },
     "execution_count": 20,
     "metadata": {},
     "output_type": "execute_result"
    }
   ],
   "source": [
    "performance_data.iloc[0]"
   ]
  },
  {
   "cell_type": "code",
   "execution_count": 4,
   "id": "1fc358b3",
   "metadata": {},
   "outputs": [
    {
     "data": {
      "text/plain": [
       "0      joe\n",
       "1     mark\n",
       "2    faith\n",
       "3      ace\n",
       "4     john\n",
       "5    lucky\n",
       "Name: names, dtype: object"
      ]
     },
     "execution_count": 4,
     "metadata": {},
     "output_type": "execute_result"
    }
   ],
   "source": [
    "performance_data.iloc[:,0]"
   ]
  },
  {
   "cell_type": "code",
   "execution_count": 5,
   "id": "d9c3e19f",
   "metadata": {},
   "outputs": [
    {
     "data": {
      "text/plain": [
       "0    88\n",
       "1    78\n",
       "2    73\n",
       "Name: Gpa, dtype: int64"
      ]
     },
     "execution_count": 5,
     "metadata": {},
     "output_type": "execute_result"
    }
   ],
   "source": [
    "performance_data.iloc[:3, 1]"
   ]
  },
  {
   "cell_type": "markdown",
   "id": "21b899ba",
   "metadata": {},
   "source": [
    " # label based selection"
   ]
  },
  {
   "cell_type": "code",
   "execution_count": 16,
   "id": "5e920ec8",
   "metadata": {},
   "outputs": [
    {
     "data": {
      "text/html": [
       "<div>\n",
       "<style scoped>\n",
       "    .dataframe tbody tr th:only-of-type {\n",
       "        vertical-align: middle;\n",
       "    }\n",
       "\n",
       "    .dataframe tbody tr th {\n",
       "        vertical-align: top;\n",
       "    }\n",
       "\n",
       "    .dataframe thead th {\n",
       "        text-align: right;\n",
       "    }\n",
       "</style>\n",
       "<table border=\"1\" class=\"dataframe\">\n",
       "  <thead>\n",
       "    <tr style=\"text-align: right;\">\n",
       "      <th></th>\n",
       "      <th>names</th>\n",
       "      <th>Gpa</th>\n",
       "    </tr>\n",
       "  </thead>\n",
       "  <tbody>\n",
       "    <tr>\n",
       "      <th>0</th>\n",
       "      <td>joe</td>\n",
       "      <td>88</td>\n",
       "    </tr>\n",
       "    <tr>\n",
       "      <th>1</th>\n",
       "      <td>mark</td>\n",
       "      <td>78</td>\n",
       "    </tr>\n",
       "    <tr>\n",
       "      <th>2</th>\n",
       "      <td>faith</td>\n",
       "      <td>73</td>\n",
       "    </tr>\n",
       "    <tr>\n",
       "      <th>3</th>\n",
       "      <td>ace</td>\n",
       "      <td>73</td>\n",
       "    </tr>\n",
       "  </tbody>\n",
       "</table>\n",
       "</div>"
      ],
      "text/plain": [
       "   names  Gpa\n",
       "0    joe   88\n",
       "1   mark   78\n",
       "2  faith   73\n",
       "3    ace   73"
      ]
     },
     "execution_count": 16,
     "metadata": {},
     "output_type": "execute_result"
    }
   ],
   "source": [
    "performance_data.loc[:3, ['names','Gpa'] ]"
   ]
  },
  {
   "cell_type": "markdown",
   "id": "bd3c1081",
   "metadata": {},
   "source": [
    "# series"
   ]
  },
  {
   "cell_type": "code",
   "execution_count": 8,
   "id": "e32bdb5a",
   "metadata": {},
   "outputs": [
    {
     "data": {
      "text/plain": [
       "0    76\n",
       "1    77\n",
       "2    78\n",
       "3    82\n",
       "4    73\n",
       "5    79\n",
       "dtype: int64"
      ]
     },
     "execution_count": 8,
     "metadata": {},
     "output_type": "execute_result"
    }
   ],
   "source": [
    "# creating a series from a list\n",
    "marks = [76,77,78,82,73,79]\n",
    "c1 = pd.Series(marks)\n",
    "c1"
   ]
  },
  {
   "cell_type": "code",
   "execution_count": 12,
   "id": "7252488b",
   "metadata": {},
   "outputs": [
    {
     "data": {
      "text/plain": [
       "1    76\n",
       "2    77\n",
       "3    78\n",
       "4    82\n",
       "5    73\n",
       "6    79\n",
       "dtype: int64"
      ]
     },
     "execution_count": 12,
     "metadata": {},
     "output_type": "execute_result"
    }
   ],
   "source": [
    "rank = [1,2,3,4,5,6]\n",
    "c2 = pd.Series(marks, index = rank)\n",
    "c2"
   ]
  },
  {
   "cell_type": "code",
   "execution_count": 13,
   "id": "eff4a17e",
   "metadata": {},
   "outputs": [
    {
     "data": {
      "text/plain": [
       "sco 202    76\n",
       "sco 204    77\n",
       "sco 107    78\n",
       "sma 204    82\n",
       "sma 203    73\n",
       "sst 205    79\n",
       "dtype: int64"
      ]
     },
     "execution_count": 13,
     "metadata": {},
     "output_type": "execute_result"
    }
   ],
   "source": [
    "index = ['sco 202', 'sco 204', 'sco 107', 'sma 204', 'sma 203', 'sst 205']\n",
    "c3 = pd.Series(marks,index = index)\n",
    "c3"
   ]
  },
  {
   "cell_type": "code",
   "execution_count": 22,
   "id": "2c8de0a4",
   "metadata": {},
   "outputs": [
    {
     "data": {
      "text/plain": [
       "array([ 0.58989644, -0.34392485, -0.23323103,  1.15603523, -0.35049902,\n",
       "        1.02916255, -1.09964305])"
      ]
     },
     "execution_count": 22,
     "metadata": {},
     "output_type": "execute_result"
    }
   ],
   "source": [
    "import numpy as np\n",
    "numbers = np.random.randn(7)\n",
    "numbers"
   ]
  },
  {
   "cell_type": "code",
   "execution_count": 1,
   "id": "58a4f638",
   "metadata": {
    "scrolled": true
   },
   "outputs": [],
   "source": [
    "# creating series from dictionary\n",
    "capital_city = {'Kenya':'Nairobi', 'USA':'Washington Dc', 'France': 'Paris'}"
   ]
  },
  {
   "cell_type": "code",
   "execution_count": null,
   "id": "2cd404da",
   "metadata": {},
   "outputs": [],
   "source": []
  }
 ],
 "metadata": {
  "kernelspec": {
   "display_name": "Python 3",
   "language": "python",
   "name": "python3"
  },
  "language_info": {
   "codemirror_mode": {
    "name": "ipython",
    "version": 3
   },
   "file_extension": ".py",
   "mimetype": "text/x-python",
   "name": "python",
   "nbconvert_exporter": "python",
   "pygments_lexer": "ipython3",
   "version": "3.8.8"
  }
 },
 "nbformat": 4,
 "nbformat_minor": 5
}

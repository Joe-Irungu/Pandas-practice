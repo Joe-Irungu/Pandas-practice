{
 "cells": [
  {
   "cell_type": "code",
   "execution_count": 1,
   "id": "5559f15c",
   "metadata": {},
   "outputs": [
    {
     "data": {
      "text/html": [
       "<div>\n",
       "<style scoped>\n",
       "    .dataframe tbody tr th:only-of-type {\n",
       "        vertical-align: middle;\n",
       "    }\n",
       "\n",
       "    .dataframe tbody tr th {\n",
       "        vertical-align: top;\n",
       "    }\n",
       "\n",
       "    .dataframe thead th {\n",
       "        text-align: right;\n",
       "    }\n",
       "</style>\n",
       "<table border=\"1\" class=\"dataframe\">\n",
       "  <thead>\n",
       "    <tr style=\"text-align: right;\">\n",
       "      <th></th>\n",
       "      <th>names</th>\n",
       "      <th>Gpa</th>\n",
       "      <th>rank</th>\n",
       "    </tr>\n",
       "  </thead>\n",
       "  <tbody>\n",
       "    <tr>\n",
       "      <th>0</th>\n",
       "      <td>joe</td>\n",
       "      <td>88</td>\n",
       "      <td>1</td>\n",
       "    </tr>\n",
       "    <tr>\n",
       "      <th>1</th>\n",
       "      <td>mark</td>\n",
       "      <td>78</td>\n",
       "      <td>2</td>\n",
       "    </tr>\n",
       "    <tr>\n",
       "      <th>2</th>\n",
       "      <td>faith</td>\n",
       "      <td>73</td>\n",
       "      <td>3</td>\n",
       "    </tr>\n",
       "    <tr>\n",
       "      <th>3</th>\n",
       "      <td>ace</td>\n",
       "      <td>73</td>\n",
       "      <td>3</td>\n",
       "    </tr>\n",
       "    <tr>\n",
       "      <th>4</th>\n",
       "      <td>john</td>\n",
       "      <td>72</td>\n",
       "      <td>5</td>\n",
       "    </tr>\n",
       "    <tr>\n",
       "      <th>5</th>\n",
       "      <td>lucky</td>\n",
       "      <td>71</td>\n",
       "      <td>6</td>\n",
       "    </tr>\n",
       "  </tbody>\n",
       "</table>\n",
       "</div>"
      ],
      "text/plain": [
       "   names  Gpa  rank\n",
       "0    joe   88     1\n",
       "1   mark   78     2\n",
       "2  faith   73     3\n",
       "3    ace   73     3\n",
       "4   john   72     5\n",
       "5  lucky   71     6"
      ]
     },
     "execution_count": 1,
     "metadata": {},
     "output_type": "execute_result"
    }
   ],
   "source": [
    "import pandas as pd\n",
    "import numpy as np\n",
    "Class_performance = {'names':['joe', 'mark', 'faith', 'ace', 'john', 'lucky'],\n",
    "                    'Gpa':[88, 78, 73, 73, 72, 71],\n",
    "                    'rank':[1, 2, 3, 3, 5, 6]}\n",
    "performance_data = pd.DataFrame(Class_performance)\n",
    "performance_data"
   ]
  },
  {
   "cell_type": "code",
   "execution_count": 2,
   "id": "49ba99a0",
   "metadata": {},
   "outputs": [
    {
     "data": {
      "text/plain": [
       "'C:\\\\Users\\\\San'"
      ]
     },
     "execution_count": 2,
     "metadata": {},
     "output_type": "execute_result"
    }
   ],
   "source": [
    "pwd"
   ]
  },
  {
   "cell_type": "code",
   "execution_count": 3,
   "id": "4514e10d",
   "metadata": {},
   "outputs": [
    {
     "data": {
      "text/plain": [
       "0      joe\n",
       "1     mark\n",
       "2    faith\n",
       "3      ace\n",
       "4     john\n",
       "5    lucky\n",
       "Name: names, dtype: object"
      ]
     },
     "execution_count": 3,
     "metadata": {},
     "output_type": "execute_result"
    }
   ],
   "source": [
    "performance_data.names"
   ]
  },
  {
   "cell_type": "code",
   "execution_count": 4,
   "id": "20709d23",
   "metadata": {},
   "outputs": [
    {
     "data": {
      "text/plain": [
       "0    88\n",
       "1    78\n",
       "2    73\n",
       "3    73\n",
       "4    72\n",
       "5    71\n",
       "Name: Gpa, dtype: int64"
      ]
     },
     "execution_count": 4,
     "metadata": {},
     "output_type": "execute_result"
    }
   ],
   "source": [
    "performance_data.Gpa"
   ]
  },
  {
   "cell_type": "code",
   "execution_count": 5,
   "id": "209aad2b",
   "metadata": {},
   "outputs": [
    {
     "name": "stdout",
     "output_type": "stream",
     "text": [
      "1.2.4\n"
     ]
    }
   ],
   "source": [
    "print(pd.__version__)"
   ]
  },
  {
   "cell_type": "markdown",
   "id": "30ef573c",
   "metadata": {},
   "source": [
    "# series"
   ]
  },
  {
   "cell_type": "code",
   "execution_count": 6,
   "id": "aa98c8b5",
   "metadata": {},
   "outputs": [
    {
     "data": {
      "text/plain": [
       "0    76\n",
       "1    77\n",
       "2    78\n",
       "3    82\n",
       "4    73\n",
       "5    79\n",
       "dtype: int64"
      ]
     },
     "execution_count": 6,
     "metadata": {},
     "output_type": "execute_result"
    }
   ],
   "source": [
    "# creating a series from a list\n",
    "marks = [76,77,78,82,73,79]\n",
    "c1 = pd.Series(marks)\n",
    "c1"
   ]
  },
  {
   "cell_type": "code",
   "execution_count": 7,
   "id": "ec9f23dc",
   "metadata": {},
   "outputs": [
    {
     "data": {
      "text/plain": [
       "1    76\n",
       "2    77\n",
       "3    78\n",
       "4    82\n",
       "5    73\n",
       "6    79\n",
       "dtype: int64"
      ]
     },
     "execution_count": 7,
     "metadata": {},
     "output_type": "execute_result"
    }
   ],
   "source": [
    "rank = [1,2,3,4,5,6]\n",
    "c2 = pd.Series(marks, index = rank)\n",
    "c2"
   ]
  },
  {
   "cell_type": "code",
   "execution_count": null,
   "id": "4ef3a1f7",
   "metadata": {},
   "outputs": [],
   "source": []
  },
  {
   "cell_type": "code",
   "execution_count": 8,
   "id": "b4072da5",
   "metadata": {},
   "outputs": [
    {
     "data": {
      "text/plain": [
       "array([-3.91119562e-01,  8.19858872e-01,  1.79805255e+00,  5.55080583e-01,\n",
       "       -3.66386091e-01, -4.00182225e-01,  5.01047352e-04])"
      ]
     },
     "execution_count": 8,
     "metadata": {},
     "output_type": "execute_result"
    }
   ],
   "source": [
    "import numpy as np\n",
    "numbers = np.random.randn(7)\n",
    "numbers"
   ]
  },
  {
   "cell_type": "code",
   "execution_count": 9,
   "id": "596c3aeb",
   "metadata": {},
   "outputs": [
    {
     "data": {
      "text/plain": [
       "Kenya           Nairobi\n",
       "USA       Washington Dc\n",
       "France            Paris\n",
       "dtype: object"
      ]
     },
     "execution_count": 9,
     "metadata": {},
     "output_type": "execute_result"
    }
   ],
   "source": [
    "# creating series from dictionary\n",
    "import pandas as pd\n",
    "capital_city = {'Kenya':'Nairobi', 'USA':'Washington Dc', 'France': 'Paris'}\n",
    "d = pd.Series(capital_city)\n",
    "d"
   ]
  },
  {
   "cell_type": "code",
   "execution_count": 10,
   "id": "914ddf4b",
   "metadata": {},
   "outputs": [
    {
     "data": {
      "text/plain": [
       "Kenya    Nairobi\n",
       "dtype: object"
      ]
     },
     "execution_count": 10,
     "metadata": {},
     "output_type": "execute_result"
    }
   ],
   "source": [
    "#slicing\n",
    "d[:-2]"
   ]
  },
  {
   "cell_type": "code",
   "execution_count": 11,
   "id": "05a8bb69",
   "metadata": {},
   "outputs": [
    {
     "data": {
      "text/plain": [
       "Kenya           Nairobi\n",
       "USA       Washington Dc\n",
       "France            Paris\n",
       "dtype: object"
      ]
     },
     "execution_count": 11,
     "metadata": {},
     "output_type": "execute_result"
    }
   ],
   "source": [
    "d.drop('USA')\n",
    "d"
   ]
  },
  {
   "cell_type": "code",
   "execution_count": 12,
   "id": "01f12139",
   "metadata": {},
   "outputs": [
    {
     "data": {
      "text/plain": [
       "0    a\n",
       "1    b\n",
       "2    c\n",
       "3    d\n",
       "dtype: object"
      ]
     },
     "execution_count": 12,
     "metadata": {},
     "output_type": "execute_result"
    }
   ],
   "source": [
    "arr1 = [1,2,3,4,5,6,7]\n",
    "arr2 = ['a','b','c','d']\n",
    "s7 = pd.Series(arr2)\n",
    "s7"
   ]
  },
  {
   "cell_type": "code",
   "execution_count": 13,
   "id": "3da145e3",
   "metadata": {},
   "outputs": [
    {
     "data": {
      "text/plain": [
       "0    1\n",
       "1    2\n",
       "2    3\n",
       "3    4\n",
       "4    5\n",
       "5    6\n",
       "6    7\n",
       "dtype: int64"
      ]
     },
     "execution_count": 13,
     "metadata": {},
     "output_type": "execute_result"
    }
   ],
   "source": [
    "s8 = pd.Series(arr1)\n",
    "s8"
   ]
  },
  {
   "cell_type": "code",
   "execution_count": 14,
   "id": "94e8a2cc",
   "metadata": {},
   "outputs": [
    {
     "data": {
      "text/plain": [
       "0    77.0\n",
       "1    79.0\n",
       "2    81.0\n",
       "3    86.0\n",
       "4    78.0\n",
       "5    85.0\n",
       "6     NaN\n",
       "dtype: float64"
      ]
     },
     "execution_count": 14,
     "metadata": {},
     "output_type": "execute_result"
    }
   ],
   "source": [
    "c1.add(s8)"
   ]
  },
  {
   "cell_type": "code",
   "execution_count": 15,
   "id": "cd394743",
   "metadata": {},
   "outputs": [
    {
     "name": "stdout",
     "output_type": "stream",
     "text": [
      "median: 77.5\n"
     ]
    }
   ],
   "source": [
    "print('median:', c1.median())"
   ]
  },
  {
   "cell_type": "code",
   "execution_count": 16,
   "id": "038a0516",
   "metadata": {},
   "outputs": [
    {
     "name": "stdout",
     "output_type": "stream",
     "text": [
      "maximum: 82\n"
     ]
    }
   ],
   "source": [
    "print(\"maximum:\",c1.max())"
   ]
  },
  {
   "cell_type": "markdown",
   "id": "5c2e3d84",
   "metadata": {},
   "source": [
    "# DataFrames"
   ]
  },
  {
   "cell_type": "code",
   "execution_count": 17,
   "id": "3e2631f8",
   "metadata": {},
   "outputs": [
    {
     "data": {
      "text/html": [
       "<div>\n",
       "<style scoped>\n",
       "    .dataframe tbody tr th:only-of-type {\n",
       "        vertical-align: middle;\n",
       "    }\n",
       "\n",
       "    .dataframe tbody tr th {\n",
       "        vertical-align: top;\n",
       "    }\n",
       "\n",
       "    .dataframe thead th {\n",
       "        text-align: right;\n",
       "    }\n",
       "</style>\n",
       "<table border=\"1\" class=\"dataframe\">\n",
       "  <thead>\n",
       "    <tr style=\"text-align: right;\">\n",
       "      <th></th>\n",
       "      <th>Day</th>\n",
       "      <th>No Of Eggs</th>\n",
       "      <th>prices</th>\n",
       "    </tr>\n",
       "  </thead>\n",
       "  <tbody>\n",
       "    <tr>\n",
       "      <th>a</th>\n",
       "      <td>monday</td>\n",
       "      <td>1300</td>\n",
       "      <td>15.0</td>\n",
       "    </tr>\n",
       "    <tr>\n",
       "      <th>b</th>\n",
       "      <td>tuesday</td>\n",
       "      <td>1327</td>\n",
       "      <td>15.5</td>\n",
       "    </tr>\n",
       "    <tr>\n",
       "      <th>c</th>\n",
       "      <td>wednesday</td>\n",
       "      <td>1298</td>\n",
       "      <td>15.3</td>\n",
       "    </tr>\n",
       "    <tr>\n",
       "      <th>d</th>\n",
       "      <td>thursday</td>\n",
       "      <td>1287</td>\n",
       "      <td>16.0</td>\n",
       "    </tr>\n",
       "    <tr>\n",
       "      <th>e</th>\n",
       "      <td>friday</td>\n",
       "      <td>1356</td>\n",
       "      <td>15.9</td>\n",
       "    </tr>\n",
       "    <tr>\n",
       "      <th>f</th>\n",
       "      <td>saturday</td>\n",
       "      <td>1309</td>\n",
       "      <td>16.5</td>\n",
       "    </tr>\n",
       "    <tr>\n",
       "      <th>g</th>\n",
       "      <td>sunday</td>\n",
       "      <td>1358</td>\n",
       "      <td>16.0</td>\n",
       "    </tr>\n",
       "  </tbody>\n",
       "</table>\n",
       "</div>"
      ],
      "text/plain": [
       "         Day  No Of Eggs  prices\n",
       "a     monday        1300    15.0\n",
       "b    tuesday        1327    15.5\n",
       "c  wednesday        1298    15.3\n",
       "d   thursday        1287    16.0\n",
       "e     friday        1356    15.9\n",
       "f   saturday        1309    16.5\n",
       "g     sunday        1358    16.0"
      ]
     },
     "execution_count": 17,
     "metadata": {},
     "output_type": "execute_result"
    }
   ],
   "source": [
    "#creating dataframe with dictionary array\n",
    "data = {'Day':['monday','tuesday','wednesday','thursday', 'friday', 'saturday', 'sunday'],\n",
    "       'No Of Eggs' : [1300, 1327, 1298,1287,1356,1309,1358],\n",
    "       'prices':[15.0,15.5,15.3,16,15.9,16.5,16.0]}\n",
    "labels = ['a','b','c','d','e','f','g']\n",
    "df1 = pd.DataFrame(data, index = labels)\n",
    "df1"
   ]
  },
  {
   "cell_type": "code",
   "execution_count": null,
   "id": "f6980ae2",
   "metadata": {},
   "outputs": [],
   "source": []
  },
  {
   "cell_type": "code",
   "execution_count": 18,
   "id": "5fcf8752",
   "metadata": {},
   "outputs": [
    {
     "data": {
      "text/html": [
       "<div>\n",
       "<style scoped>\n",
       "    .dataframe tbody tr th:only-of-type {\n",
       "        vertical-align: middle;\n",
       "    }\n",
       "\n",
       "    .dataframe tbody tr th {\n",
       "        vertical-align: top;\n",
       "    }\n",
       "\n",
       "    .dataframe thead th {\n",
       "        text-align: right;\n",
       "    }\n",
       "</style>\n",
       "<table border=\"1\" class=\"dataframe\">\n",
       "  <thead>\n",
       "    <tr style=\"text-align: right;\">\n",
       "      <th></th>\n",
       "      <th>Day</th>\n",
       "      <th>No Of Eggs</th>\n",
       "      <th>prices</th>\n",
       "    </tr>\n",
       "  </thead>\n",
       "  <tbody>\n",
       "    <tr>\n",
       "      <th>c</th>\n",
       "      <td>wednesday</td>\n",
       "      <td>1298</td>\n",
       "      <td>15.3</td>\n",
       "    </tr>\n",
       "    <tr>\n",
       "      <th>d</th>\n",
       "      <td>thursday</td>\n",
       "      <td>1287</td>\n",
       "      <td>16.0</td>\n",
       "    </tr>\n",
       "    <tr>\n",
       "      <th>e</th>\n",
       "      <td>friday</td>\n",
       "      <td>1356</td>\n",
       "      <td>15.9</td>\n",
       "    </tr>\n",
       "    <tr>\n",
       "      <th>f</th>\n",
       "      <td>saturday</td>\n",
       "      <td>1309</td>\n",
       "      <td>16.5</td>\n",
       "    </tr>\n",
       "    <tr>\n",
       "      <th>g</th>\n",
       "      <td>sunday</td>\n",
       "      <td>1358</td>\n",
       "      <td>16.0</td>\n",
       "    </tr>\n",
       "  </tbody>\n",
       "</table>\n",
       "</div>"
      ],
      "text/plain": [
       "         Day  No Of Eggs  prices\n",
       "c  wednesday        1298    15.3\n",
       "d   thursday        1287    16.0\n",
       "e     friday        1356    15.9\n",
       "f   saturday        1309    16.5\n",
       "g     sunday        1358    16.0"
      ]
     },
     "execution_count": 18,
     "metadata": {},
     "output_type": "execute_result"
    }
   ],
   "source": [
    "df1.dtypes\n",
    "df1.head(3)\n",
    "df1.tail()\n"
   ]
  },
  {
   "cell_type": "code",
   "execution_count": 19,
   "id": "beb32628",
   "metadata": {},
   "outputs": [
    {
     "data": {
      "text/html": [
       "<div>\n",
       "<style scoped>\n",
       "    .dataframe tbody tr th:only-of-type {\n",
       "        vertical-align: middle;\n",
       "    }\n",
       "\n",
       "    .dataframe tbody tr th {\n",
       "        vertical-align: top;\n",
       "    }\n",
       "\n",
       "    .dataframe thead th {\n",
       "        text-align: right;\n",
       "    }\n",
       "</style>\n",
       "<table border=\"1\" class=\"dataframe\">\n",
       "  <thead>\n",
       "    <tr style=\"text-align: right;\">\n",
       "      <th></th>\n",
       "      <th>No Of Eggs</th>\n",
       "      <th>prices</th>\n",
       "    </tr>\n",
       "  </thead>\n",
       "  <tbody>\n",
       "    <tr>\n",
       "      <th>count</th>\n",
       "      <td>7.000000</td>\n",
       "      <td>7.000000</td>\n",
       "    </tr>\n",
       "    <tr>\n",
       "      <th>mean</th>\n",
       "      <td>1319.285714</td>\n",
       "      <td>15.742857</td>\n",
       "    </tr>\n",
       "    <tr>\n",
       "      <th>std</th>\n",
       "      <td>28.517330</td>\n",
       "      <td>0.506153</td>\n",
       "    </tr>\n",
       "    <tr>\n",
       "      <th>min</th>\n",
       "      <td>1287.000000</td>\n",
       "      <td>15.000000</td>\n",
       "    </tr>\n",
       "    <tr>\n",
       "      <th>25%</th>\n",
       "      <td>1299.000000</td>\n",
       "      <td>15.400000</td>\n",
       "    </tr>\n",
       "    <tr>\n",
       "      <th>50%</th>\n",
       "      <td>1309.000000</td>\n",
       "      <td>15.900000</td>\n",
       "    </tr>\n",
       "    <tr>\n",
       "      <th>75%</th>\n",
       "      <td>1341.500000</td>\n",
       "      <td>16.000000</td>\n",
       "    </tr>\n",
       "    <tr>\n",
       "      <th>max</th>\n",
       "      <td>1358.000000</td>\n",
       "      <td>16.500000</td>\n",
       "    </tr>\n",
       "  </tbody>\n",
       "</table>\n",
       "</div>"
      ],
      "text/plain": [
       "        No Of Eggs     prices\n",
       "count     7.000000   7.000000\n",
       "mean   1319.285714  15.742857\n",
       "std      28.517330   0.506153\n",
       "min    1287.000000  15.000000\n",
       "25%    1299.000000  15.400000\n",
       "50%    1309.000000  15.900000\n",
       "75%    1341.500000  16.000000\n",
       "max    1358.000000  16.500000"
      ]
     },
     "execution_count": 19,
     "metadata": {},
     "output_type": "execute_result"
    }
   ],
   "source": [
    "df1.describe()"
   ]
  },
  {
   "cell_type": "code",
   "execution_count": 20,
   "id": "9d8a351e",
   "metadata": {},
   "outputs": [
    {
     "data": {
      "text/plain": [
       "Index(['Day', 'No Of Eggs', 'prices'], dtype='object')"
      ]
     },
     "execution_count": 20,
     "metadata": {},
     "output_type": "execute_result"
    }
   ],
   "source": [
    "df1.columns"
   ]
  },
  {
   "cell_type": "code",
   "execution_count": null,
   "id": "e1eb8df0",
   "metadata": {},
   "outputs": [],
   "source": []
  },
  {
   "cell_type": "code",
   "execution_count": 31,
   "id": "8e782dec",
   "metadata": {},
   "outputs": [
    {
     "ename": "NameError",
     "evalue": "name 'df7' is not defined",
     "output_type": "error",
     "traceback": [
      "\u001b[1;31m---------------------------------------------------------------------------\u001b[0m",
      "\u001b[1;31mNameError\u001b[0m                                 Traceback (most recent call last)",
      "\u001b[1;32m<ipython-input-31-755904c0f970>\u001b[0m in \u001b[0;36m<module>\u001b[1;34m\u001b[0m\n\u001b[1;32m----> 1\u001b[1;33m \u001b[0mdf7\u001b[0m\u001b[1;33m.\u001b[0m\u001b[0mmean\u001b[0m\u001b[1;33m(\u001b[0m\u001b[1;33m)\u001b[0m\u001b[1;33m\u001b[0m\u001b[1;33m\u001b[0m\u001b[0m\n\u001b[0m",
      "\u001b[1;31mNameError\u001b[0m: name 'df7' is not defined"
     ]
    }
   ],
   "source": [
    "df7.mean()"
   ]
  },
  {
   "cell_type": "code",
   "execution_count": null,
   "id": "59c72531",
   "metadata": {},
   "outputs": [],
   "source": [
    "data ={'UNITS':units,'MARKS' : marks,'GRADE': ['A','A','A','A','A','A']}\n",
    "labels  =[1,2,3,4,5,6]\n",
    "df7 = pd.DataFrame(data, index = labels)\n",
    "df7"
   ]
  },
  {
   "cell_type": "code",
   "execution_count": null,
   "id": "5d1a62cb",
   "metadata": {},
   "outputs": [],
   "source": [
    "dates = pd.date_range('today', periods=6)\n",
    "num_arr = np.random.randn(6,5)\n",
    "columns = ['A','B','C','D','E']\n",
    "\n",
    "df2 = pd.DataFrame(num_arr, index=dates, columns = columns)\n",
    "df2"
   ]
  },
  {
   "cell_type": "code",
   "execution_count": null,
   "id": "fa31c51b",
   "metadata": {},
   "outputs": [],
   "source": [
    "df2.values\n"
   ]
  },
  {
   "cell_type": "code",
   "execution_count": null,
   "id": "0a3db91a",
   "metadata": {},
   "outputs": [],
   "source": [
    "df2.describe()"
   ]
  },
  {
   "cell_type": "code",
   "execution_count": null,
   "id": "be05dd9f",
   "metadata": {},
   "outputs": [],
   "source": [
    "df2.T"
   ]
  },
  {
   "cell_type": "code",
   "execution_count": null,
   "id": "7a15c37e",
   "metadata": {},
   "outputs": [],
   "source": [
    "df1.T"
   ]
  },
  {
   "cell_type": "code",
   "execution_count": null,
   "id": "cc9adc14",
   "metadata": {},
   "outputs": [],
   "source": [
    "df1.sort_values(by = 'prices')"
   ]
  },
  {
   "cell_type": "code",
   "execution_count": null,
   "id": "1e953f00",
   "metadata": {},
   "outputs": [],
   "source": [
    "# slicing of dataframes\n",
    "df2[1:4]"
   ]
  },
  {
   "cell_type": "code",
   "execution_count": null,
   "id": "9bd511f9",
   "metadata": {},
   "outputs": [],
   "source": [
    "# query dataframe by tag\n",
    "df1[['Day', 'No Of Eggs']]"
   ]
  },
  {
   "cell_type": "code",
   "execution_count": null,
   "id": "a3697411",
   "metadata": {},
   "outputs": [],
   "source": [
    "# query rows 2,3 \n",
    "df2.iloc[1:3]"
   ]
  },
  {
   "cell_type": "code",
   "execution_count": null,
   "id": "560803eb",
   "metadata": {},
   "outputs": [],
   "source": [
    "df1.iloc[0:4]"
   ]
  },
  {
   "cell_type": "code",
   "execution_count": null,
   "id": "619145c7",
   "metadata": {},
   "outputs": [],
   "source": [
    "df1.head(4)"
   ]
  },
  {
   "cell_type": "code",
   "execution_count": null,
   "id": "ff00d603",
   "metadata": {},
   "outputs": [],
   "source": [
    "df3 = df2.copy()\n",
    "df3"
   ]
  },
  {
   "cell_type": "code",
   "execution_count": null,
   "id": "d960c98e",
   "metadata": {},
   "outputs": [],
   "source": [
    "df1.isnull()"
   ]
  },
  {
   "cell_type": "code",
   "execution_count": null,
   "id": "02d244f4",
   "metadata": {},
   "outputs": [],
   "source": [
    "df1"
   ]
  },
  {
   "cell_type": "code",
   "execution_count": null,
   "id": "3158e590",
   "metadata": {},
   "outputs": [],
   "source": [
    "df1.mean()"
   ]
  },
  {
   "cell_type": "code",
   "execution_count": null,
   "id": "b0b61f55",
   "metadata": {},
   "outputs": [],
   "source": [
    "df1.sum()"
   ]
  },
  {
   "cell_type": "markdown",
   "id": "a1ec715b",
   "metadata": {},
   "source": [
    "# operations for DataFrame missing values"
   ]
  },
  {
   "cell_type": "code",
   "execution_count": null,
   "id": "9d513e34",
   "metadata": {},
   "outputs": [],
   "source": [
    "data = {'Day':['monday','tuesday','wednesday','thursday', 'friday', 'saturday', 'sunday'],\n",
    "       'No Of Eggs' : [1300, 1327,np.nan,1287,np.nan,1309,1358],\n",
    "       'prices':[15.0,15.5,16,np.nan,15.9,16.5,16.0]}\n",
    "labels = ['a',' b','c','d','e','f','g']\n",
    "df5 = pd.DataFrame(data, index = labels)\n",
    "df5"
   ]
  },
  {
   "cell_type": "code",
   "execution_count": null,
   "id": "dbe3531e",
   "metadata": {},
   "outputs": [],
   "source": [
    "df5"
   ]
  },
  {
   "cell_type": "code",
   "execution_count": null,
   "id": "1c5d6199",
   "metadata": {},
   "outputs": [],
   "source": [
    "df5.dropna(how = 'any')"
   ]
  },
  {
   "cell_type": "markdown",
   "id": "80094087",
   "metadata": {},
   "source": [
    "# DataFrame file operations"
   ]
  },
  {
   "cell_type": "code",
   "execution_count": null,
   "id": "2bca9b40",
   "metadata": {},
   "outputs": [],
   "source": [
    "df5.to_csv('Eggs_production.csv')\n",
    "df_production = pd.read_csv('Eggs_production.csv')\n",
    "df_production.head()"
   ]
  },
  {
   "cell_type": "markdown",
   "id": "7657562b",
   "metadata": {},
   "source": [
    "# visualization in pandas"
   ]
  },
  {
   "cell_type": "code",
   "execution_count": 30,
   "id": "cd20a554",
   "metadata": {},
   "outputs": [
    {
     "data": {
      "text/plain": [
       "<AxesSubplot:>"
      ]
     },
     "execution_count": 30,
     "metadata": {},
     "output_type": "execute_result"
    },
    {
     "data": {
      "image/png": "[encoded data removed]",
      "text/plain": [
       "<Figure size 432x288 with 1 Axes>"
      ]
     },
     "metadata": {
      "needs_background": "light"
     },
     "output_type": "display_data"
    }
   ],
   "source": [
    "import numpy as np\n",
    "import pandas as pd\n",
    "%matplotlib inline\n",
    "\n",
    "ts = pd.Series(np.random.randn(50), index = pd.date_range('today', periods = 50))\n",
    "ts =ts.cumsum()\n",
    "ts.plot()"
   ]
  },
  {
   "cell_type": "code",
   "execution_count": null,
   "id": "71c2bcbb",
   "metadata": {},
   "outputs": [],
   "source": [
    "df = pd.DataFrame(np.random.randn(50,4), index=ts.index,\n",
    "                  columns = ['A','B','C','D'])\n",
    "df = df.cumsum()\n",
    "df.plot()\n"
   ]
  },
  {
   "cell_type": "markdown",
   "id": "69e77cf8",
   "metadata": {},
   "source": [
    "# removing repeated data in pandas"
   ]
  },
  {
   "cell_type": "code",
   "execution_count": null,
   "id": "bd7e762d",
   "metadata": {},
   "outputs": [],
   "source": [
    "df = pd.DataFrame({'A':[1,2,2,2,4,7,6,6,4,1,9,7,5,3,1,3,3]})\n",
    "df.loc[df['A'].shift() != df['A']]"
   ]
  },
  {
   "cell_type": "code",
   "execution_count": 29,
   "id": "aeb4d49d",
   "metadata": {},
   "outputs": [
    {
     "data": {
      "text/html": [
       "<div>\n",
       "<style scoped>\n",
       "    .dataframe tbody tr th:only-of-type {\n",
       "        vertical-align: middle;\n",
       "    }\n",
       "\n",
       "    .dataframe tbody tr th {\n",
       "        vertical-align: top;\n",
       "    }\n",
       "\n",
       "    .dataframe thead th {\n",
       "        text-align: right;\n",
       "    }\n",
       "</style>\n",
       "<table border=\"1\" class=\"dataframe\">\n",
       "  <thead>\n",
       "    <tr style=\"text-align: right;\">\n",
       "      <th></th>\n",
       "      <th>Rank</th>\n",
       "      <th>Name</th>\n",
       "      <th>Platform</th>\n",
       "      <th>Year</th>\n",
       "      <th>Genre</th>\n",
       "      <th>Publisher</th>\n",
       "      <th>NA_Sales</th>\n",
       "      <th>EU_Sales</th>\n",
       "      <th>JP_Sales</th>\n",
       "      <th>Other_Sales</th>\n",
       "      <th>Global_Sales</th>\n",
       "    </tr>\n",
       "  </thead>\n",
       "  <tbody>\n",
       "    <tr>\n",
       "      <th>0</th>\n",
       "      <td>1</td>\n",
       "      <td>Wii Sports</td>\n",
       "      <td>Wii</td>\n",
       "      <td>2006.0</td>\n",
       "      <td>Sports</td>\n",
       "      <td>Nintendo</td>\n",
       "      <td>41.49</td>\n",
       "      <td>29.02</td>\n",
       "      <td>3.77</td>\n",
       "      <td>8.46</td>\n",
       "      <td>82.74</td>\n",
       "    </tr>\n",
       "    <tr>\n",
       "      <th>1</th>\n",
       "      <td>2</td>\n",
       "      <td>Super Mario Bros.</td>\n",
       "      <td>NES</td>\n",
       "      <td>1985.0</td>\n",
       "      <td>Platform</td>\n",
       "      <td>Nintendo</td>\n",
       "      <td>29.08</td>\n",
       "      <td>3.58</td>\n",
       "      <td>6.81</td>\n",
       "      <td>0.77</td>\n",
       "      <td>40.24</td>\n",
       "    </tr>\n",
       "    <tr>\n",
       "      <th>2</th>\n",
       "      <td>3</td>\n",
       "      <td>Mario Kart Wii</td>\n",
       "      <td>Wii</td>\n",
       "      <td>2008.0</td>\n",
       "      <td>Racing</td>\n",
       "      <td>Nintendo</td>\n",
       "      <td>15.85</td>\n",
       "      <td>12.88</td>\n",
       "      <td>3.79</td>\n",
       "      <td>3.31</td>\n",
       "      <td>35.82</td>\n",
       "    </tr>\n",
       "    <tr>\n",
       "      <th>3</th>\n",
       "      <td>4</td>\n",
       "      <td>Wii Sports Resort</td>\n",
       "      <td>Wii</td>\n",
       "      <td>2009.0</td>\n",
       "      <td>Sports</td>\n",
       "      <td>Nintendo</td>\n",
       "      <td>15.75</td>\n",
       "      <td>11.01</td>\n",
       "      <td>3.28</td>\n",
       "      <td>2.96</td>\n",
       "      <td>33.00</td>\n",
       "    </tr>\n",
       "    <tr>\n",
       "      <th>4</th>\n",
       "      <td>5</td>\n",
       "      <td>Pokemon Red/Pokemon Blue</td>\n",
       "      <td>GB</td>\n",
       "      <td>1996.0</td>\n",
       "      <td>Role-Playing</td>\n",
       "      <td>Nintendo</td>\n",
       "      <td>11.27</td>\n",
       "      <td>8.89</td>\n",
       "      <td>10.22</td>\n",
       "      <td>1.00</td>\n",
       "      <td>31.37</td>\n",
       "    </tr>\n",
       "  </tbody>\n",
       "</table>\n",
       "</div>"
      ],
      "text/plain": [
       "   Rank                      Name Platform    Year         Genre Publisher  \\\n",
       "0     1                Wii Sports      Wii  2006.0        Sports  Nintendo   \n",
       "1     2         Super Mario Bros.      NES  1985.0      Platform  Nintendo   \n",
       "2     3            Mario Kart Wii      Wii  2008.0        Racing  Nintendo   \n",
       "3     4         Wii Sports Resort      Wii  2009.0        Sports  Nintendo   \n",
       "4     5  Pokemon Red/Pokemon Blue       GB  1996.0  Role-Playing  Nintendo   \n",
       "\n",
       "   NA_Sales  EU_Sales  JP_Sales  Other_Sales  Global_Sales  \n",
       "0     41.49     29.02      3.77         8.46         82.74  \n",
       "1     29.08      3.58      6.81         0.77         40.24  \n",
       "2     15.85     12.88      3.79         3.31         35.82  \n",
       "3     15.75     11.01      3.28         2.96         33.00  \n",
       "4     11.27      8.89     10.22         1.00         31.37  "
      ]
     },
     "execution_count": 29,
     "metadata": {},
     "output_type": "execute_result"
    }
   ],
   "source": [
    "import pandas \n",
    "sales = pd.read_csv('vgsales.csv')\n",
    "sales.head()\n"
   ]
  },
  {
   "cell_type": "code",
   "execution_count": null,
   "id": "5256d525",
   "metadata": {},
   "outputs": [],
   "source": [
    "reviews = pd.read_csv('winemag-data_first150k.csv')\n",
    "reviews"
   ]
  },
  {
   "cell_type": "code",
   "execution_count": null,
   "id": "7558bb73",
   "metadata": {},
   "outputs": [],
   "source": [
    "reviews.describe()"
   ]
  },
  {
   "cell_type": "code",
   "execution_count": null,
   "id": "5031e4d1",
   "metadata": {},
   "outputs": [],
   "source": [
    "reviews.head()"
   ]
  },
  {
   "cell_type": "code",
   "execution_count": null,
   "id": "4b35edbd",
   "metadata": {},
   "outputs": [],
   "source": [
    "reviews.iloc[:6, 1:3]"
   ]
  },
  {
   "cell_type": "code",
   "execution_count": null,
   "id": "af0f00b2",
   "metadata": {},
   "outputs": [],
   "source": [
    "reviews.country == 'Italy'\n"
   ]
  },
  {
   "cell_type": "code",
   "execution_count": null,
   "id": "ec7927f1",
   "metadata": {},
   "outputs": [],
   "source": [
    "reviews.loc[(reviews.country == 'Italy') & (reviews.points >= 90)]"
   ]
  },
  {
   "cell_type": "code",
   "execution_count": null,
   "id": "c58d127e",
   "metadata": {},
   "outputs": [],
   "source": [
    "reviews.loc[reviews.country.isin(['Italy','US'])]"
   ]
  },
  {
   "cell_type": "code",
   "execution_count": null,
   "id": "f33b6d78",
   "metadata": {},
   "outputs": [],
   "source": [
    "reviews"
   ]
  },
  {
   "cell_type": "code",
   "execution_count": null,
   "id": "256fbf49",
   "metadata": {},
   "outputs": [],
   "source": [
    "reviews.designation.describe()"
   ]
  },
  {
   "cell_type": "code",
   "execution_count": null,
   "id": "a53bede4",
   "metadata": {},
   "outputs": [],
   "source": [
    " reviews.country.value_counts()"
   ]
  },
  {
   "cell_type": "code",
   "execution_count": null,
   "id": "2f479351",
   "metadata": {},
   "outputs": [],
   "source": [
    "reviews.country.unique()"
   ]
  },
  {
   "cell_type": "code",
   "execution_count": null,
   "id": "98c76ac1",
   "metadata": {},
   "outputs": [],
   "source": [
    "centered_price = reviews.price - reviews.price.mean()\n",
    "reviews.price.mean()\n"
   ]
  },
  {
   "cell_type": "code",
   "execution_count": null,
   "id": "1aae319c",
   "metadata": {},
   "outputs": [],
   "source": [
    "centered_price"
   ]
  },
  {
   "cell_type": "code",
   "execution_count": null,
   "id": "702b6a9e",
   "metadata": {},
   "outputs": [],
   "source": [
    "bargain_idx = (reviews.points / reviews.price).idxmax()\n",
    "bargain_wine = reviews.loc[bargain_idx, 'winery']\n",
    "bargain_wine"
   ]
  },
  {
   "cell_type": "code",
   "execution_count": null,
   "id": "2b26242d",
   "metadata": {},
   "outputs": [],
   "source": [
    "reviews.columns"
   ]
  },
  {
   "cell_type": "code",
   "execution_count": null,
   "id": "38a82dfd",
   "metadata": {},
   "outputs": [],
   "source": [
    "reviews.loc[400:,\"winery\"]"
   ]
  },
  {
   "cell_type": "code",
   "execution_count": null,
   "id": "9134251f",
   "metadata": {},
   "outputs": [],
   "source": [
    "reviews.points.value_counts()"
   ]
  },
  {
   "cell_type": "code",
   "execution_count": null,
   "id": "d0e00aa4",
   "metadata": {},
   "outputs": [],
   "source": [
    "reviews.groupby('points').points.count()"
   ]
  },
  {
   "cell_type": "code",
   "execution_count": null,
   "id": "1c737433",
   "metadata": {},
   "outputs": [],
   "source": [
    "reviews.groupby('points').price.min()"
   ]
  },
  {
   "cell_type": "code",
   "execution_count": null,
   "id": "b62bf3fb",
   "metadata": {},
   "outputs": [],
   "source": [
    "reviews.groupby(['country']).price.agg([len,min,max])"
   ]
  },
  {
   "cell_type": "code",
   "execution_count": null,
   "id": "d73f33b8",
   "metadata": {},
   "outputs": [],
   "source": [
    "reviews.country == 'Egypt'"
   ]
  },
  {
   "cell_type": "code",
   "execution_count": null,
   "id": "061991c4",
   "metadata": {
    "scrolled": true
   },
   "outputs": [],
   "source": [
    "sales = pd.read_csv('vgsales.csv')"
   ]
  },
  {
   "cell_type": "code",
   "execution_count": null,
   "id": "96e2b6cd",
   "metadata": {},
   "outputs": [],
   "source": [
    "sales.Year.value_counts()"
   ]
  },
  {
   "cell_type": "code",
   "execution_count": null,
   "id": "56dcfc97",
   "metadata": {},
   "outputs": [],
   "source": [
    "sales.Year"
   ]
  },
  {
   "cell_type": "code",
   "execution_count": 22,
   "id": "7953e0de",
   "metadata": {},
   "outputs": [
    {
     "data": {
      "text/html": [
       "<div>\n",
       "<style scoped>\n",
       "    .dataframe tbody tr th:only-of-type {\n",
       "        vertical-align: middle;\n",
       "    }\n",
       "\n",
       "    .dataframe tbody tr th {\n",
       "        vertical-align: top;\n",
       "    }\n",
       "\n",
       "    .dataframe thead th {\n",
       "        text-align: right;\n",
       "    }\n",
       "</style>\n",
       "<table border=\"1\" class=\"dataframe\">\n",
       "  <thead>\n",
       "    <tr style=\"text-align: right;\">\n",
       "      <th></th>\n",
       "      <th>Candidates</th>\n",
       "      <th>valid_votes</th>\n",
       "      <th>percentages of votes</th>\n",
       "      <th>counties candidates attained more than 25%</th>\n",
       "    </tr>\n",
       "  </thead>\n",
       "  <tbody>\n",
       "    <tr>\n",
       "      <th>1</th>\n",
       "      <td>Odinga Raila</td>\n",
       "      <td>6942930</td>\n",
       "      <td>48.85%</td>\n",
       "      <td>34</td>\n",
       "    </tr>\n",
       "    <tr>\n",
       "      <th>2</th>\n",
       "      <td>Ruto William</td>\n",
       "      <td>7176141</td>\n",
       "      <td>50.49%</td>\n",
       "      <td>39</td>\n",
       "    </tr>\n",
       "    <tr>\n",
       "      <th>3</th>\n",
       "      <td>Wajakoyah</td>\n",
       "      <td>61969</td>\n",
       "      <td>0.44%</td>\n",
       "      <td>0</td>\n",
       "    </tr>\n",
       "    <tr>\n",
       "      <th>4</th>\n",
       "      <td>Mwaure</td>\n",
       "      <td>31987</td>\n",
       "      <td>0.23%</td>\n",
       "      <td>0</td>\n",
       "    </tr>\n",
       "  </tbody>\n",
       "</table>\n",
       "</div>"
      ],
      "text/plain": [
       "     Candidates  valid_votes percentages of votes  \\\n",
       "1  Odinga Raila      6942930               48.85%   \n",
       "2  Ruto William      7176141               50.49%   \n",
       "3     Wajakoyah        61969                0.44%   \n",
       "4        Mwaure        31987                0.23%   \n",
       "\n",
       "   counties candidates attained more than 25%  \n",
       "1                                          34  \n",
       "2                                          39  \n",
       "3                                           0  \n",
       "4                                           0  "
      ]
     },
     "execution_count": 22,
     "metadata": {},
     "output_type": "execute_result"
    }
   ],
   "source": [
    "import pandas as pd\n",
    "Results_2022 = pd.DataFrame({'Candidates':['Odinga Raila', 'Ruto William', 'Wajakoyah', 'Mwaure'],\n",
    "                            'valid_votes':[6942930, 7176141,61969,31987],\n",
    "                            'percentages of votes':['48.85%','50.49%', '0.44%', '0.23%'],\n",
    "                            'counties candidates attained more than 25%':[34,39,0,0]},index = [1,2,3,4])\n",
    "\n",
    "Results_2022"
   ]
  },
  {
   "cell_type": "code",
   "execution_count": 23,
   "id": "0cd6c355",
   "metadata": {},
   "outputs": [
    {
     "data": {
      "text/plain": [
       "7176141"
      ]
     },
     "execution_count": 23,
     "metadata": {},
     "output_type": "execute_result"
    }
   ],
   "source": [
    "votes = Results_2022.valid_votes\n",
    "votes.max()"
   ]
  },
  {
   "cell_type": "code",
   "execution_count": 27,
   "id": "8e837f7b",
   "metadata": {},
   "outputs": [
    {
     "data": {
      "text/plain": [
       "valid_votes\n",
       "31987            Mwaure\n",
       "61969         Wajakoyah\n",
       "6942930    Odinga Raila\n",
       "7176141    Ruto William\n",
       "Name: Candidates, dtype: object"
      ]
     },
     "execution_count": 27,
     "metadata": {},
     "output_type": "execute_result"
    }
   ],
   "source": [
    "Results_2022.groupby('valid_votes').Candidates.min()"
   ]
  },
  {
   "cell_type": "code",
   "execution_count": 28,
   "id": "33fe4dd4",
   "metadata": {},
   "outputs": [
    {
     "data": {
      "text/plain": [
       "7176141"
      ]
     },
     "execution_count": 28,
     "metadata": {},
     "output_type": "execute_result"
    }
   ],
   "source": [
    "Results_2022.valid_votes.max()"
   ]
  },
  {
   "cell_type": "code",
   "execution_count": null,
   "id": "5e752922",
   "metadata": {},
   "outputs": [],
   "source": []
  },
  {
   "cell_type": "code",
   "execution_count": null,
   "id": "8e09e9a0",
   "metadata": {},
   "outputs": [],
   "source": []
  }
 ],
 "metadata": {
  "kernelspec": {
   "display_name": "Python 3",
   "language": "python",
   "name": "python3"
  },
  "language_info": {
   "codemirror_mode": {
    "name": "ipython",
    "version": 3
   },
   "file_extension": ".py",
   "mimetype": "text/x-python",
   "name": "python",
   "nbconvert_exporter": "python",
   "pygments_lexer": "ipython3",
   "version": "3.8.8"
  }
 },
 "nbformat": 4,
 "nbformat_minor": 5
}
